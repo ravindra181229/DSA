{
 "cells": [
  {
   "cell_type": "markdown",
   "id": "41624503",
   "metadata": {},
   "source": [
    "# Data Structres and Algorithms"
   ]
  },
  {
   "cell_type": "code",
   "execution_count": 109,
   "id": "19f7e343",
   "metadata": {},
   "outputs": [
    {
     "data": {
      "text/plain": [
       "'\\nSTACK\\nQUEUE\\nLINKEDLIST\\nTREES\\nGRAPH\\n'"
      ]
     },
     "execution_count": 109,
     "metadata": {},
     "output_type": "execute_result"
    }
   ],
   "source": [
    "\"\"\"\n",
    "STACK\n",
    "QUEUE\n",
    "LINKEDLIST\n",
    "TREES\n",
    "GRAPH\n",
    "\"\"\""
   ]
  },
  {
   "cell_type": "code",
   "execution_count": 139,
   "id": "242cfe1a",
   "metadata": {},
   "outputs": [],
   "source": [
    "#stack\n",
    "class Stack:\n",
    "    \n",
    "    def __init__(self):\n",
    "        self.stack = []\n",
    "        \n",
    "    def push(self, data):\n",
    "        self.stack.append(data)\n",
    "        \n",
    "    def pop(self):\n",
    "        if len(self.stack) < 1:\n",
    "            print(\"none\")\n",
    "        self.stack.pop()\n",
    "        \n",
    "    def display_result(self):\n",
    "        print(self.stack)"
   ]
  },
  {
   "cell_type": "code",
   "execution_count": 140,
   "id": "1d80d3d1",
   "metadata": {},
   "outputs": [],
   "source": [
    "output = Stack()"
   ]
  },
  {
   "cell_type": "code",
   "execution_count": 141,
   "id": "cdc4d341",
   "metadata": {},
   "outputs": [],
   "source": [
    "output.push(\"ravindra\")"
   ]
  },
  {
   "cell_type": "code",
   "execution_count": 142,
   "id": "de185c67",
   "metadata": {},
   "outputs": [],
   "source": [
    "output.push(\"snopy\")"
   ]
  },
  {
   "cell_type": "code",
   "execution_count": 143,
   "id": "3b54a61c",
   "metadata": {},
   "outputs": [],
   "source": [
    "output.push(\"pete\")"
   ]
  },
  {
   "cell_type": "code",
   "execution_count": 144,
   "id": "5ef2ec39",
   "metadata": {},
   "outputs": [
    {
     "name": "stdout",
     "output_type": "stream",
     "text": [
      "['ravindra', 'snopy', 'pete']\n"
     ]
    }
   ],
   "source": [
    "output.display_result()"
   ]
  },
  {
   "cell_type": "code",
   "execution_count": 145,
   "id": "4e6d54af",
   "metadata": {},
   "outputs": [],
   "source": [
    "output.pop()"
   ]
  },
  {
   "cell_type": "code",
   "execution_count": 146,
   "id": "f8d2e530",
   "metadata": {},
   "outputs": [
    {
     "name": "stdout",
     "output_type": "stream",
     "text": [
      "['ravindra', 'snopy']\n"
     ]
    }
   ],
   "source": [
    "output.display_result()"
   ]
  },
  {
   "cell_type": "code",
   "execution_count": 152,
   "id": "e2cf7183",
   "metadata": {},
   "outputs": [],
   "source": [
    "#queue\n",
    "class Queue:\n",
    "    \n",
    "    def __init__(self):\n",
    "        self.stack = []\n",
    "        \n",
    "    def push(self, data):\n",
    "        self.stack.append(data)\n",
    "        \n",
    "    def pop(self):\n",
    "        if len(self.stack) < 1:\n",
    "            print(\"none\")\n",
    "        print(self.stack.pop(0))\n",
    "        \n",
    "    def display_result(self):\n",
    "        print(self.stack)"
   ]
  },
  {
   "cell_type": "code",
   "execution_count": 153,
   "id": "8cf93576",
   "metadata": {},
   "outputs": [],
   "source": [
    "out = Queue()"
   ]
  },
  {
   "cell_type": "code",
   "execution_count": 154,
   "id": "6255b5c7",
   "metadata": {},
   "outputs": [],
   "source": [
    "out.push(\"3\")"
   ]
  },
  {
   "cell_type": "code",
   "execution_count": 155,
   "id": "9acc1ce3",
   "metadata": {},
   "outputs": [],
   "source": [
    "out.push(\"55\")"
   ]
  },
  {
   "cell_type": "code",
   "execution_count": 156,
   "id": "0544021c",
   "metadata": {},
   "outputs": [],
   "source": [
    "out.push(\"ravindra\")"
   ]
  },
  {
   "cell_type": "code",
   "execution_count": 161,
   "id": "e97f0cbc",
   "metadata": {},
   "outputs": [
    {
     "name": "stdout",
     "output_type": "stream",
     "text": [
      "['ravindra', 'snopy']\n"
     ]
    }
   ],
   "source": [
    "out.display_result()"
   ]
  },
  {
   "cell_type": "code",
   "execution_count": 158,
   "id": "b105f219",
   "metadata": {},
   "outputs": [
    {
     "name": "stdout",
     "output_type": "stream",
     "text": [
      "3\n"
     ]
    }
   ],
   "source": [
    "out.pop()"
   ]
  },
  {
   "cell_type": "code",
   "execution_count": 159,
   "id": "73e83532",
   "metadata": {},
   "outputs": [
    {
     "name": "stdout",
     "output_type": "stream",
     "text": [
      "55\n"
     ]
    }
   ],
   "source": [
    "out.pop()"
   ]
  },
  {
   "cell_type": "code",
   "execution_count": 160,
   "id": "772d2e16",
   "metadata": {},
   "outputs": [],
   "source": [
    "out.push('snopy')"
   ]
  },
  {
   "cell_type": "code",
   "execution_count": 162,
   "id": "2f36ebf0",
   "metadata": {},
   "outputs": [
    {
     "name": "stdout",
     "output_type": "stream",
     "text": [
      "ravindra\n"
     ]
    }
   ],
   "source": [
    "out.pop()"
   ]
  },
  {
   "cell_type": "code",
   "execution_count": 169,
   "id": "4d1b9046",
   "metadata": {},
   "outputs": [
    {
     "name": "stdout",
     "output_type": "stream",
     "text": [
      "3 ->\n",
      "6 ->\n",
      "9 ->\n",
      "12 ->\n",
      "15 ->\n",
      "None\n"
     ]
    }
   ],
   "source": [
    "#linked list\n",
    "\n",
    "class linkedlist:\n",
    "    \n",
    "    def __init__(self,value, nextnode = None):\n",
    "        self.value = value\n",
    "        self.nextnode = nextnode\n",
    "        \n",
    "node1 = linkedlist(\"3\")\n",
    "node2 = linkedlist(\"6\")\n",
    "node3 = linkedlist(\"9\")\n",
    "node4 = linkedlist(\"12\")\n",
    "node5 = linkedlist(\"15\")\n",
    "\n",
    "node1.nextnode = node2\n",
    "node2.nextnode = node3\n",
    "node3.nextnode = node4\n",
    "node4.nextnode = node5\n",
    "\n",
    "currentnode = node1\n",
    "while True:\n",
    "    print(currentnode.value,'->')\n",
    "    if currentnode.nextnode is None:\n",
    "        print(\"None\")\n",
    "        break\n",
    "    currentnode = currentnode.nextnode"
   ]
  },
  {
   "cell_type": "code",
   "execution_count": 171,
   "id": "ca3f5ba1",
   "metadata": {},
   "outputs": [],
   "source": [
    "#Tress\n",
    "\n",
    "class nodes:\n",
    "    \n",
    "    def __init__(self, value):\n",
    "        self.childleft = None\n",
    "        self.childright = None\n",
    "        self.nodedata = value\n",
    "        \n",
    "        \n",
    "root = nodes(1)\n",
    "root.childleft = nodes(2)\n",
    "root.childright = nodes(3)\n",
    "root.childleft.childleft = nodes(4)\n",
    "root.childleft.childright = nodes(5)"
   ]
  },
  {
   "cell_type": "code",
   "execution_count": 172,
   "id": "302a30d2",
   "metadata": {},
   "outputs": [
    {
     "name": "stdout",
     "output_type": "stream",
     "text": [
      "4\n",
      "2\n",
      "5\n",
      "1\n",
      "3\n"
     ]
    }
   ],
   "source": [
    "def Inorder(root):\n",
    "    if root:\n",
    "        Inorder(root.childleft)\n",
    "        print(root.nodedata)\n",
    "        Inorder(root.childright)\n",
    "        \n",
    "Inorder(root)"
   ]
  },
  {
   "cell_type": "code",
   "execution_count": 174,
   "id": "697d5764",
   "metadata": {},
   "outputs": [
    {
     "name": "stdout",
     "output_type": "stream",
     "text": [
      "1\n",
      "2\n",
      "4\n",
      "5\n",
      "3\n"
     ]
    }
   ],
   "source": [
    "def preorder(root):\n",
    "    if root:\n",
    "        print(root.nodedata)\n",
    "        preorder(root.childleft)\n",
    "        preorder(root.childright)\n",
    "        \n",
    "preorder(root)"
   ]
  },
  {
   "cell_type": "code",
   "execution_count": 175,
   "id": "52013b78",
   "metadata": {},
   "outputs": [
    {
     "name": "stdout",
     "output_type": "stream",
     "text": [
      "4\n",
      "2\n",
      "5\n",
      "3\n",
      "1\n"
     ]
    }
   ],
   "source": [
    "def postorder(root):\n",
    "    if root:\n",
    "        Inorder(root.childleft)\n",
    "        Inorder(root.childright)\n",
    "        print(root.nodedata)\n",
    "        \n",
    "postorder(root)"
   ]
  },
  {
   "cell_type": "code",
   "execution_count": 176,
   "id": "03a19f5b",
   "metadata": {},
   "outputs": [],
   "source": [
    "#GRAPHS\n"
   ]
  },
  {
   "cell_type": "code",
   "execution_count": 177,
   "id": "57ba9f5d",
   "metadata": {},
   "outputs": [],
   "source": [
    "all_edges = [\n",
    "    (\"a\",\"b\"),(\"a\",\"c\"),(\"c\",\"b\"),(\"c\",\"d\"),(\"d\",\"a\"),(\"d\",\"c\")\n",
    "]"
   ]
  },
  {
   "cell_type": "code",
   "execution_count": 179,
   "id": "0accd2b2",
   "metadata": {},
   "outputs": [],
   "source": [
    "class Graph:\n",
    "    \n",
    "    def __init__(self, nodes):\n",
    "        self.nodes = nodes\n",
    "        self.adj_list = {}\n",
    "        \n",
    "        for i in self.nodes:\n",
    "            self.adj_list[i] = []\n",
    "            \n",
    "    def add_edges(self,u,v):\n",
    "        self.adj_list[u].append(v)\n",
    "        self.adj_list[v].append(u)\n",
    "        \n",
    "    def display_result(self):\n",
    "        for i in self.nodes:\n",
    "            print(i, '->',self.adj_list[i])"
   ]
  },
  {
   "cell_type": "code",
   "execution_count": 180,
   "id": "c54e67a4",
   "metadata": {},
   "outputs": [
    {
     "name": "stdout",
     "output_type": "stream",
     "text": [
      "a -> ['b', 'c', 'd']\n",
      "b -> ['a', 'c']\n",
      "c -> ['a', 'b', 'd', 'd']\n",
      "d -> ['c', 'a', 'c']\n",
      "e -> []\n"
     ]
    }
   ],
   "source": [
    "nodes = [\"a\",\"b\",\"c\",\"d\",\"e\"]\n",
    "graph = Graph(nodes)\n",
    "for u,v in all_edges:\n",
    "    graph.add_edges(u,v)\n",
    "graph.display_result()"
   ]
  },
  {
   "cell_type": "code",
   "execution_count": null,
   "id": "ed61a267",
   "metadata": {},
   "outputs": [],
   "source": []
  }
 ],
 "metadata": {
  "kernelspec": {
   "display_name": "Python 3 (ipykernel)",
   "language": "python",
   "name": "python3"
  },
  "language_info": {
   "codemirror_mode": {
    "name": "ipython",
    "version": 3
   },
   "file_extension": ".py",
   "mimetype": "text/x-python",
   "name": "python",
   "nbconvert_exporter": "python",
   "pygments_lexer": "ipython3",
   "version": "3.9.12"
  }
 },
 "nbformat": 4,
 "nbformat_minor": 5
}
